{
  "nbformat": 4,
  "nbformat_minor": 0,
  "metadata": {
    "colab": {
      "private_outputs": true,
      "provenance": []
    },
    "kernelspec": {
      "name": "python3",
      "display_name": "Python 3"
    },
    "language_info": {
      "name": "python"
    }
  },
  "cells": [
    {
      "cell_type": "code",
      "execution_count": null,
      "metadata": {
        "id": "-8e6y09lSmmb"
      },
      "outputs": [],
      "source": [
        "# @title Loading and exloring the data\n",
        "import pandas as pd\n",
        "import seaborn as sns\n",
        "import matplotlib.pyplot as plt\n",
        "df = pd.read_csv(\"/content/pro1.csv\")\n",
        "df\n"
      ]
    },
    {
      "cell_type": "code",
      "source": [
        "# @title Description of the dataset\n",
        "\n",
        "df2 = df.describe()\n",
        "df2"
      ],
      "metadata": {
        "id": "L1YDw9KWG-OS"
      },
      "execution_count": null,
      "outputs": []
    },
    {
      "cell_type": "code",
      "source": [
        "# @title Visualizing the growth of world population from central tendency and standare deviation from 1965 to 2023\n",
        "plt.figure().set_figwidth(25)\n",
        "year = df.columns[4:]\n",
        "dataframe = pd.DataFrame({\"Year\":year,\"Mean\":df2.iloc[1],\"Median\":df2.iloc[5],\"Mode\":df2.iloc[6],\"Standard Deviation\":df2.iloc[2]})\n",
        "sns.lineplot(x=\"Year\",y=\"Mean\",data=dataframe,label=\"Mean\",marker=\"o\")\n",
        "sns.lineplot(x=\"Year\",y=\"Median\",data=dataframe,label=\"Median\",marker=\"*\")\n",
        "sns.lineplot(x=\"Year\",y=\"Mode\",data=dataframe,label=\"Mode\",dashes=True)\n",
        "sns.lineplot(x=\"Year\",y=\"Standard Deviation\",data=dataframe,label=\"Standard deviation\",marker=\"^\")\n",
        "plt.title(\"Description of the dataset\")\n",
        "plt.xlabel(\"Year\")\n",
        "plt.ylabel(\"Population\")\n",
        "plt.xticks(rotation=90)\n",
        "plt.tight_layout()\n",
        "plt.show()"
      ],
      "metadata": {
        "id": "o4ahMjMDMdj9"
      },
      "execution_count": null,
      "outputs": []
    },
    {
      "cell_type": "code",
      "source": [
        "\n"
      ],
      "metadata": {
        "id": "F-pL-Bm7NXxM"
      },
      "execution_count": null,
      "outputs": []
    },
    {
      "cell_type": "code",
      "source": [
        "# @title Fcomparing total population of the world then and now\n",
        "import plotly.express as px\n",
        "df1965 = df[\"1965\"].sum()\n",
        "df2023 = df[\"2023\"].sum()\n",
        "plt.bar([\"1965\",\"2023\"],[df1965,df2023],color=[\"black\",\"grey\"])\n",
        "plt.title(\"Comparing total population of the world then and now\")\n",
        "plt.xlabel(\"Year\")\n",
        "plt.ylabel(\"Population\")\n",
        "plt.show()\n"
      ],
      "metadata": {
        "id": "sQ4cpEcMfaFY"
      },
      "execution_count": null,
      "outputs": []
    },
    {
      "cell_type": "code",
      "source": [
        "# @title Comparing total population from start to end\n",
        "import plotly.express as px\n",
        "year = df.columns[4:]\n",
        "world_population_from_1965to2023 = [df.iloc[:,i].sum() for i in range(4,df.shape[1])]\n",
        "print(len(world_population_from_1965to2023))\n",
        "plt.figure(figsize=(20,5))\n",
        "plt.plot(year,world_population_from_1965to2023,color=\"red\")\n",
        "plt.bar(year,world_population_from_1965to2023,color=\"yellow\")\n",
        "plt.title(\"Comparing total population from start to end\")\n",
        "plt.xlabel(\"Year\")\n",
        "plt.ylabel(\"Population\")\n",
        "plt.xticks(rotation=90)\n",
        "plt.show()\n",
        "\n"
      ],
      "metadata": {
        "id": "uyosksfhimk5"
      },
      "execution_count": null,
      "outputs": []
    },
    {
      "cell_type": "code",
      "source": [
        "# @title Line plot for all countries which shows changes in population from 1965 to 2023\n",
        "import pandas as pd\n",
        "import seaborn as sns\n",
        "import matplotlib.pyplot as plt\n",
        "df = pd.read_csv(\"/content/pro1.csv\")\n",
        "year = df.columns[4:]\n",
        "for i in range(df.shape[0]):\n",
        "  pop = (df.iloc[i]).iloc[4:]\n",
        "  temp = pd.DataFrame({\"Year\":year,\"Population\":pop})\n",
        "  plt.figure(figsize=(15,5))\n",
        "  sns.lineplot(x=\"Year\",y=\"Population\",data = temp)\n",
        "  plt.title(df[\"Country Name\"][i])\n",
        "  plt.xlabel(\"Year\")\n",
        "  plt.ylabel(\"Population\")\n",
        "  plt.xticks(rotation=90)\n",
        "  plt.show()\n"
      ],
      "metadata": {
        "id": "_7rjZWOhSydX"
      },
      "execution_count": null,
      "outputs": []
    },
    {
      "cell_type": "code",
      "source": [],
      "metadata": {
        "id": "08Wo3cH-DxSh"
      },
      "execution_count": null,
      "outputs": []
    },
    {
      "cell_type": "code",
      "source": [
        "# @title Line plot for all countries which shows changes in population from 1965 to 2023\n",
        "year = df.columns[4:]\n",
        "for i in range(df.shape[0]):\n",
        "  pop = (df.iloc[i]).iloc[4:]\n",
        "  temp = pd.DataFrame({\"Year\":year,\"Population\":pop})\n",
        "  plt.figure(figsize=(15,5))\n",
        "  sns.histplot(x=\"Year\",y=\"Population\",data = temp)\n",
        "  plt.title(df[\"Country Name\"][i])\n",
        "  plt.xlabel(\"Year\")\n",
        "  plt.ylabel(\"Population\")\n",
        "  plt.xticks(rotation=90)\n",
        "  plt.show()\n"
      ],
      "metadata": {
        "id": "oR7GXG97X-n5"
      },
      "execution_count": null,
      "outputs": []
    },
    {
      "cell_type": "code",
      "source": [
        "# @title Bar plot for all countries which shows changes in population from 1965 to 2023\n",
        "year = df.columns[4:]\n",
        "for i in range(df.shape[0]):\n",
        "  pop = (df.iloc[i]).iloc[4:]\n",
        "  temp = pd.DataFrame({\"Year\":year,\"Population\":pop})\n",
        "  plt.figure(figsize=(15,5))\n",
        "  fig = px.bar( temp,x=\"Year\",y=\"Population\",title=df[\"Country Name\"][i])\n",
        "  fig.update_layout(\n",
        "    xaxis_title=\"Year\",  # Set x-axis label\n",
        "    yaxis_title=\"Population\",  # Set y-axis label\n",
        "    xaxis_tickangle=45,            # Rotate x-axis tick labels by 45 degrees\n",
        "    xaxis_tickfont=dict(size=12),   # Change x-axis tick label font size\n",
        ")\n",
        "  fig.show()\n"
      ],
      "metadata": {
        "id": "b8UlobacTQrC"
      },
      "execution_count": null,
      "outputs": []
    },
    {
      "cell_type": "code",
      "source": [
        "from plotly.graph_objs import *\n",
        "\n",
        "df1 = pd.DataFrame({\"Country\":df[\"Country Name\"],\"Total_Population\":df.iloc[:,-1]})\n",
        "px.bar(df1,x=\"Total_Population\",y=\"Country\",title=\"Total Population of Each Country at 2023\",color=\"Total_Population\")\n",
        "\n"
      ],
      "metadata": {
        "id": "ft1xe289bmjf"
      },
      "execution_count": null,
      "outputs": []
    },
    {
      "cell_type": "code",
      "source": [
        "# @title Top 10 countries have more population at 2023\n",
        "df.sort_values(by=\"2023\",ascending=False).head(10)\n",
        "px.bar(df.sort_values(by=\"2023\",ascending=False).head(10),x=\"2023\",y=\"Country Name\",title=\"Top 10 countries have more population at 2023\",color=\"2023\")\n"
      ],
      "metadata": {
        "id": "SUEjV74LN1d0"
      },
      "execution_count": null,
      "outputs": []
    },
    {
      "cell_type": "code",
      "source": [
        "import plotly.express as px\n",
        "\n",
        "fig = px.choropleth(df, locations=\"Country Name\", locationmode='country names', color=\"2023\",\n",
        "                    hover_name=\"Country Name\", title='World Population in 2023') # Changed 'country' to 'Country Name' for hover_name\n",
        "fig.show()"
      ],
      "metadata": {
        "id": "qyVIZidnQgPD"
      },
      "execution_count": null,
      "outputs": []
    },
    {
      "cell_type": "code",
      "source": [
        "import seaborn as sns\n",
        "import matplotlib.pyplot as plt\n",
        "\n",
        "# Histogram for the year 2023\n",
        "plt.figure(figsize=(10, 6))\n",
        "sns.histplot(df['2023'], bins=30, kde=True)\n",
        "plt.title('Population Distribution in 2023')\n",
        "plt.xlabel('Population')\n",
        "plt.ylabel('Number of Countries')\n",
        "plt.show()\n"
      ],
      "metadata": {
        "id": "nMUBVh6QRIbX"
      },
      "execution_count": null,
      "outputs": []
    },
    {
      "source": [
        "# @title 3D Scatter Plot for Years, Population, and Countries\n",
        "\n",
        "import plotly.express as px\n",
        "import pandas as pd\n",
        "\n",
        "# Extract relevant data\n",
        "years = df.columns[4:]\n",
        "countries = df['Country Name']\n",
        "population_data = df.iloc[:, 4:]\n",
        "\n",
        "# Create a list to store data for the 3D plot\n",
        "plot_data = []\n",
        "for i in range(len(countries)):\n",
        "    for j in range(len(years)):\n",
        "        plot_data.append([countries[i], years[j], population_data.iloc[i, j]])\n",
        "\n",
        "# Create a DataFrame from the plot data\n",
        "plot_df = pd.DataFrame(plot_data, columns=['Country', 'Year', 'Population'])\n",
        "plot_df\n",
        "# Create the 3D scatter plot\n",
        "fig = px.scatter_3d(plot_df, x='Year', y='Country', z='Population',\n",
        "                    color='Country', title='3D Population Scatter Plot')\n",
        "fig.show()\n"
      ],
      "cell_type": "code",
      "metadata": {
        "id": "HB8k0Z0rWOAG"
      },
      "execution_count": null,
      "outputs": []
    }
  ]
}